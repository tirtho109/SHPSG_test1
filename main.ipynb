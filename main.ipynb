{
 "cells": [
  {
   "cell_type": "markdown",
   "metadata": {},
   "source": [
    "# Main\n",
    "\n",
    "* Define shape parameters\n",
    "* Generate surface grids\n",
    "* Randomly generate particle shapes\n",
    "* Export STL files and PNG snapshots"
   ]
  },
  {
   "cell_type": "markdown",
   "metadata": {},
   "source": [
    "## Load packages and functions"
   ]
  },
  {
   "cell_type": "code",
   "execution_count": 9,
   "metadata": {
    "scrolled": false
   },
   "outputs": [],
   "source": [
    "import numpy as np\n",
    "import scipy.io as sio\n",
    "from funcs import *\n",
    "from SHPSG import *"
   ]
  },
  {
   "cell_type": "markdown",
   "metadata": {},
   "source": [
    "## Define shape parameters"
   ]
  },
  {
   "cell_type": "code",
   "execution_count": 10,
   "metadata": {},
   "outputs": [],
   "source": [
    "# particle form: elongation index and flatness index\n",
    "Ei,Fi = 1,1\n",
    "# particle roundness: larger D2_8 --> lower roundness\n",
    "D2_8 = [0.1, 0.2, 0.3]\n",
    "# particle roughness: larger D9_15 --> higher roughness\n",
    "D9_15 = [0.0]"
   ]
  },
  {
   "cell_type": "markdown",
   "metadata": {},
   "source": [
    "## Generate surface grids"
   ]
  },
  {
   "cell_type": "code",
   "execution_count": 11,
   "metadata": {},
   "outputs": [],
   "source": [
    "level = 3 # face number: 20 @ level-0; 80 @ level-1; 320 @ level-2\n",
    "\n",
    "# create isosahedron surface\n",
    "vertices, faces = icosahedron()\n",
    "for i in range(level): \n",
    "    # subdivide surface\n",
    "    vertices, faces = subdivsurf(faces,vertices)\n",
    "    # remove duplicate vertices\n",
    "    vertices, faces = cleanmesh(faces,vertices)\n",
    "# convert from Cartesian to spherical coordinates\n",
    "sph_cor = car2sph(vertices)"
   ]
  },
  {
   "cell_type": "markdown",
   "metadata": {},
   "source": [
    "## Generate and export particle shapes"
   ]
  },
  {
   "cell_type": "code",
   "execution_count": 12,
   "metadata": {
    "scrolled": false
   },
   "outputs": [
    {
     "data": {
      "text/plain": [
       "<Figure size 900x900 with 0 Axes>"
      ]
     },
     "metadata": {},
     "output_type": "display_data"
    },
    {
     "data": {
      "text/plain": [
       "<Figure size 900x900 with 0 Axes>"
      ]
     },
     "metadata": {},
     "output_type": "display_data"
    },
    {
     "data": {
      "text/plain": [
       "<Figure size 900x900 with 0 Axes>"
      ]
     },
     "metadata": {},
     "output_type": "display_data"
    }
   ],
   "source": [
    "npar = 1 # particle number for each parameter group\n",
    "\n",
    "for j in range(len(D2_8)):\n",
    "    for k in range(len(D9_15)):\n",
    "        for i in range(npar):\n",
    "            # random generate SH coefficients\n",
    "            coeff = SHPSG(Ei,Fi,D2_8[j],D9_15[k])\n",
    "            # convert to spherical coordinates\n",
    "            stlpath = f'./data/D2_8_'+str('%.2f' % D2_8[j])+'_par'+str(i)+'_level'+str(level)+'.stl'\n",
    "            figpath = f'./data/D2_8_'+str('%.2f' % D2_8[j])+'_par'+str(i)+'_level'+str(level)+'.png'\n",
    "            # export to stl files\n",
    "            sh2stl(coeff, sph_cor, vertices, faces,stlpath)\n",
    "            # plot particle and save snapshort\n",
    "            plotstl(stlpath,figpath)"
   ]
  },
  {
   "cell_type": "code",
   "execution_count": null,
   "metadata": {},
   "outputs": [],
   "source": []
  }
 ],
 "metadata": {
  "kernelspec": {
   "display_name": "spehar",
   "language": "python",
   "name": "python3"
  },
  "language_info": {
   "codemirror_mode": {
    "name": "ipython",
    "version": 3
   },
   "file_extension": ".py",
   "mimetype": "text/x-python",
   "name": "python",
   "nbconvert_exporter": "python",
   "pygments_lexer": "ipython3",
   "version": "3.12.1"
  }
 },
 "nbformat": 4,
 "nbformat_minor": 2
}
